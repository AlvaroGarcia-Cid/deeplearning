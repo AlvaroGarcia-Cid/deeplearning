{
  "nbformat": 4,
  "nbformat_minor": 0,
  "metadata": {
    "kernelspec": {
      "display_name": "Python 3",
      "language": "python",
      "name": "python3"
    },
    "language_info": {
      "codemirror_mode": {
        "name": "ipython",
        "version": 3
      },
      "file_extension": ".py",
      "mimetype": "text/x-python",
      "name": "python",
      "nbconvert_exporter": "python",
      "pygments_lexer": "ipython3",
      "version": "3.8.5"
    },
    "colab": {
      "name": "2_1_Un_primer_vistazo_a_una_Red_Neuronal.ipynb",
      "provenance": [],
      "include_colab_link": true
    },
    "accelerator": "GPU",
    "gpuClass": "standard"
  },
  "cells": [
    {
      "cell_type": "markdown",
      "metadata": {
        "id": "view-in-github",
        "colab_type": "text"
      },
      "source": [
        "<a href=\"https://colab.research.google.com/github/AlvaroGarcia-Cid/deeplearning/blob/main/Ejercicio%20Regularizadores.ipynb\" target=\"_parent\"><img src=\"https://colab.research.google.com/assets/colab-badge.svg\" alt=\"Open In Colab\"/></a>"
      ]
    },
    {
      "cell_type": "markdown",
      "metadata": {
        "id": "Ejg7Msp7rbkk"
      },
      "source": [
        "# Ejercicio con regularizadores"
      ]
    },
    {
      "cell_type": "code",
      "source": [
        "%tensorflow_version 2.x\n",
        "import tensorflow as tf\n",
        "from tensorflow import keras\n",
        "print(tf.keras.__version__)\n",
        "print(\"GPU Available:\", tf.config.list_physical_devices('GPU'))\n",
        "print(tf.__version__)\n",
        "from keras.datasets import mnist\n",
        "from keras import models\n",
        "from keras import layers\n",
        "import numpy as np\n",
        "import matplotlib.pyplot as plt\n",
        "from keras import regularizers"
      ],
      "metadata": {
        "id": "BSivef1i532C",
        "outputId": "aef01856-3893-4a55-9e04-fba052e843cc",
        "colab": {
          "base_uri": "https://localhost:8080/"
        }
      },
      "execution_count": null,
      "outputs": [
        {
          "output_type": "stream",
          "name": "stdout",
          "text": [
            "Colab only includes TensorFlow 2.x; %tensorflow_version has no effect.\n",
            "2.9.0\n",
            "GPU Available: [PhysicalDevice(name='/physical_device:GPU:0', device_type='GPU')]\n",
            "2.9.2\n"
          ]
        }
      ]
    },
    {
      "cell_type": "code",
      "source": [
        "(train_images, train_labels), (test_images, test_labels) = mnist.load_data()"
      ],
      "metadata": {
        "id": "3t3R6gU9-wUy",
        "outputId": "9bca7991-12aa-40a6-97c3-12fd35bc6fe0",
        "colab": {
          "base_uri": "https://localhost:8080/"
        }
      },
      "execution_count": null,
      "outputs": [
        {
          "output_type": "stream",
          "name": "stdout",
          "text": [
            "Downloading data from https://storage.googleapis.com/tensorflow/tf-keras-datasets/mnist.npz\n",
            "11490434/11490434 [==============================] - 2s 0us/step\n"
          ]
        }
      ]
    },
    {
      "cell_type": "code",
      "source": [
        "# Prepara con reshape y normaliza las imágenes tanto de entrenamiento como de test\n",
        "train_images = train_images.reshape((60000, 28 * 28))\n",
        "train_images = train_images.astype('float32') / 255\n",
        "test_images = test_images.reshape((10000, 28 * 28))\n",
        "test_images = test_images.astype('float32') / 255\n",
        "print(len(train_images))\n",
        "print(train_images.shape)"
      ],
      "metadata": {
        "id": "H6n5NeSz0U1d",
        "outputId": "3c6226e2-dddf-4abd-fc30-cb6ba34623d2",
        "colab": {
          "base_uri": "https://localhost:8080/"
        }
      },
      "execution_count": null,
      "outputs": [
        {
          "output_type": "stream",
          "name": "stdout",
          "text": [
            "60000\n",
            "(60000, 784)\n"
          ]
        }
      ]
    },
    {
      "cell_type": "code",
      "source": [
        "# Crear un subconjunto de imágenes de entrenamiento que llamaré\n",
        "# validation_images, para hacer las validaciones, con las 10000 últimas imágenes \n",
        "# del set de datos de entrenamiento (train_images) (obviamente, lo mismo con las\n",
        "# etiquetas correspondientes -> validation_labels). Deja preparadas las 50K \n",
        "# primeras imágenes y etiquetas para entrenamiento (train_images y train_labels)\n",
        "validation_images=train_images[50000:]\n",
        "train_images=train_images[:49999]\n",
        "validation_labels=train_labels[50000:]\n",
        "train_labels=train_labels[:49999]\n",
        "print(len(validation_images))\n",
        "print(len(validation_labels))"
      ],
      "metadata": {
        "id": "NKoZGyap0XAj",
        "outputId": "746fd7c8-ba87-455a-f7f4-43d53cf6088d",
        "colab": {
          "base_uri": "https://localhost:8080/"
        }
      },
      "execution_count": null,
      "outputs": [
        {
          "output_type": "stream",
          "name": "stdout",
          "text": [
            "10000\n",
            "10000\n"
          ]
        }
      ]
    },
    {
      "cell_type": "code",
      "source": [
        "def crea_modelo(regularizador):\n",
        "  network = models.Sequential()\n",
        "  if regularizador==0:\n",
        "    network.add(layers.Dense(512,  activation='relu', input_shape=(28*28,)))\n",
        "  elif regularizador==1:\n",
        "    network.add(layers.Dense(512, kernel_regularizer=regularizers.l1(0.001), activation='relu', input_shape=(28*28,)))\n",
        "  elif regularizador==2:\n",
        "    network.add(layers.Dense(512, kernel_regularizer=regularizers.l2(0.001), activation='relu', input_shape=(28*28,)))\n",
        "  elif regularizador==3:\n",
        "    network.add(layers.Dense(512, kernel_regularizer=regularizers.l1_l2(0.001), activation='relu', input_shape=(28*28,)))\n",
        "  elif regularizador==4:\n",
        "    network.add(layers.Dense(512, activation='relu', input_shape=(28*28,)))\n",
        "    network.add(layers.Dropout(0.5))\n",
        "  else:\n",
        "    print('El número no es válido')\n",
        "  network.add(layers.Dense(10, activation='softmax'))\n",
        "  network.summary()\n",
        "  return network\n",
        "  # Define una función que recibe un número del 0 al 4 que creará:\n",
        "  # un modelo secuencial con una capa de entrada densa de 512 neuronas\n",
        "  # con activación relu y la capa de salida que le corresponda según el problema\n",
        "  # Ahora, en función del número del regularizador:\n",
        "  # Si es 0, no mete ningún regularizador\n",
        "  # Si es 1, mete un regularizador de tipo l1 y valor 0.001\n",
        "  # Si es 2, mete un regularizador de tipo l2 y valor 0.001\n",
        "  # Si es 3, mete un regularizador de tipo l1_l2 y valor 0.001 para ambos\n",
        "  # Si es 4, mete un Dropout del 50% después de la primera capa densa\n",
        "  # Si es distinto que estos valores, escribe el error y retorna\n",
        "  # Al final, esta función pinta el summary del modelo y retorna el modelo creado"
      ],
      "metadata": {
        "id": "6JnVLVfsAfkh"
      },
      "execution_count": null,
      "outputs": []
    },
    {
      "cell_type": "code",
      "source": [
        "def compila_modelo(modelo): \n",
        "  modelo.compile(optimizer='rmsprop',\n",
        "                loss='sparse_categorical_crossentropy',\n",
        "                metrics=['accuracy'])\n",
        "  return modelo\n",
        "  # Define una función que recibe un modelo, lo compila con un optimizador\n",
        "  # 'rmsprop', con una función de pérdida 'sparse_categorical_crossentropy' y\n",
        "  # una métrica de precisión. La función retorna el modelo"
      ],
      "metadata": {
        "id": "qKyJ8KOT0aFt"
      },
      "execution_count": null,
      "outputs": []
    },
    {
      "cell_type": "code",
      "source": [
        "def entrena_modelo(modelo):\n",
        "  history = modelo.fit(train_images,\n",
        "                    train_labels,\n",
        "                    epochs=30,\n",
        "                    batch_size=128,\n",
        "                    validation_data=(validation_images, validation_labels))\n",
        "  return history\n",
        "  # Define una función que entrena el modelo que se le pasa por parámetro,\n",
        "  # con las imágenes y etiquetas de entrenamiento, con 30 iteraciones y 128\n",
        "  # de tamaño de minilote y con el validation_data creado más arriba.\n",
        "  # Esta función devuelve un history"
      ],
      "metadata": {
        "id": "_yQ7SpOt0cBp"
      },
      "execution_count": null,
      "outputs": []
    },
    {
      "cell_type": "code",
      "source": [
        "def pinta_perdida_entrenamiento_validacion(historia):\n",
        "  history_dict = historia.history\n",
        "  acc = historia.history['accuracy']\n",
        "  val_acc = historia.history['val_accuracy']\n",
        "  loss = historia.history['loss']\n",
        "  val_loss = historia.history['val_loss']\n",
        "  epochs = range(1, len(acc) + 1)\n",
        "  # \"bo\" es para \"punto azun\"\n",
        "  plt.plot(epochs, loss, 'bo', label='Pérdida de Entrenamiento')\n",
        "  # \"b\" es para \"linea continua azul\"\n",
        "  plt.plot(epochs, val_loss, 'b', label='Pérdida de Validación')\n",
        "  plt.title('Pérdida de Entrenamiento y Validación')\n",
        "  plt.xlabel('Epochs')\n",
        "  plt.ylabel('Loss')\n",
        "  plt.legend()\n",
        "  plt.show()"
      ],
      "metadata": {
        "id": "bJrRNc4WwPN2"
      },
      "execution_count": null,
      "outputs": []
    },
    {
      "cell_type": "code",
      "source": [
        "def pinta_precision_entrenamiento_validacion(historia):\n",
        "  history_dict = historia.history\n",
        "  acc = historia.history['accuracy']\n",
        "  val_acc = historia.history['val_accuracy']\n",
        "  loss = historia.history['loss']\n",
        "  val_loss = historia.history['val_loss']\n",
        "  plt.clf()   # Limpia la figura\n",
        "  acc_values = history_dict['accuracy']\n",
        "  val_acc_values = history_dict['val_accuracy']\n",
        "  epochs = range(1, len(acc) + 1)\n",
        "  plt.plot(epochs, acc, 'bo', label='Precisión de Entrenamiento')\n",
        "  plt.plot(epochs, val_acc, 'b', label='Precisión de Validación')\n",
        "  plt.title('Precisión de Entrenamiento y Valización')\n",
        "  plt.xlabel('Epochs')\n",
        "  plt.ylabel('Loss')\n",
        "  plt.legend()\n",
        "  plt.show()"
      ],
      "metadata": {
        "id": "Mafxp6D3wYQx"
      },
      "execution_count": null,
      "outputs": []
    },
    {
      "cell_type": "markdown",
      "source": [
        "## Una vez definidas todas las funciones anteriores, ejecuta las siguientes llamadas a dichas funciones y deduce que está pasando y, para este contexto, que es lo que mejor está funcionando"
      ],
      "metadata": {
        "id": "6nnQYysYA3_T"
      }
    },
    {
      "cell_type": "markdown",
      "source": [
        "### Caso 0, sin regularizadores"
      ],
      "metadata": {
        "id": "OrGwDgaFBax4"
      }
    },
    {
      "cell_type": "code",
      "source": [
        "network0 = crea_modelo(0)"
      ],
      "metadata": {
        "id": "uXvhlXg79Zi9",
        "outputId": "ae2ae2b7-e0a4-4ac3-ba13-2dc35123908b",
        "colab": {
          "base_uri": "https://localhost:8080/"
        }
      },
      "execution_count": null,
      "outputs": [
        {
          "output_type": "stream",
          "name": "stdout",
          "text": [
            "Model: \"sequential\"\n",
            "_________________________________________________________________\n",
            " Layer (type)                Output Shape              Param #   \n",
            "=================================================================\n",
            " dense (Dense)               (None, 512)               401920    \n",
            "                                                                 \n",
            " dense_1 (Dense)             (None, 10)                5130      \n",
            "                                                                 \n",
            "=================================================================\n",
            "Total params: 407,050\n",
            "Trainable params: 407,050\n",
            "Non-trainable params: 0\n",
            "_________________________________________________________________\n"
          ]
        }
      ]
    },
    {
      "cell_type": "code",
      "source": [
        "network0 = compila_modelo(network0)"
      ],
      "metadata": {
        "id": "Ff0HC3NR9ez8"
      },
      "execution_count": null,
      "outputs": []
    },
    {
      "cell_type": "code",
      "source": [
        "historia0 = entrena_modelo(network0)"
      ],
      "metadata": {
        "id": "x9zQDOlw9g6V",
        "outputId": "eb371f8e-e444-4087-e7b4-c612d3d528ac",
        "colab": {
          "base_uri": "https://localhost:8080/"
        }
      },
      "execution_count": null,
      "outputs": [
        {
          "output_type": "stream",
          "name": "stdout",
          "text": [
            "Epoch 1/30\n",
            "391/391 [==============================] - 4s 4ms/step - loss: 0.2828 - accuracy: 0.9185 - val_loss: 0.1459 - val_accuracy: 0.9593\n",
            "Epoch 2/30\n",
            "391/391 [==============================] - 1s 4ms/step - loss: 0.1158 - accuracy: 0.9659 - val_loss: 0.1088 - val_accuracy: 0.9687\n",
            "Epoch 3/30\n",
            "391/391 [==============================] - 2s 4ms/step - loss: 0.0759 - accuracy: 0.9774 - val_loss: 0.0854 - val_accuracy: 0.9727\n",
            "Epoch 4/30\n",
            "391/391 [==============================] - 1s 4ms/step - loss: 0.0552 - accuracy: 0.9832 - val_loss: 0.0800 - val_accuracy: 0.9754\n",
            "Epoch 5/30\n",
            "391/391 [==============================] - 1s 4ms/step - loss: 0.0406 - accuracy: 0.9878 - val_loss: 0.0770 - val_accuracy: 0.9775\n",
            "Epoch 6/30\n",
            "391/391 [==============================] - 2s 5ms/step - loss: 0.0314 - accuracy: 0.9908 - val_loss: 0.0754 - val_accuracy: 0.9781\n",
            "Epoch 7/30\n",
            "391/391 [==============================] - 2s 5ms/step - loss: 0.0240 - accuracy: 0.9931 - val_loss: 0.0775 - val_accuracy: 0.9791\n",
            "Epoch 8/30\n",
            "391/391 [==============================] - 1s 4ms/step - loss: 0.0179 - accuracy: 0.9951 - val_loss: 0.0781 - val_accuracy: 0.9786\n",
            "Epoch 9/30\n",
            "391/391 [==============================] - 2s 4ms/step - loss: 0.0139 - accuracy: 0.9961 - val_loss: 0.0821 - val_accuracy: 0.9786\n",
            "Epoch 10/30\n",
            "391/391 [==============================] - 2s 4ms/step - loss: 0.0110 - accuracy: 0.9971 - val_loss: 0.0800 - val_accuracy: 0.9799\n",
            "Epoch 11/30\n",
            "391/391 [==============================] - 1s 4ms/step - loss: 0.0080 - accuracy: 0.9977 - val_loss: 0.0860 - val_accuracy: 0.9792\n",
            "Epoch 12/30\n",
            "391/391 [==============================] - 2s 4ms/step - loss: 0.0066 - accuracy: 0.9983 - val_loss: 0.0877 - val_accuracy: 0.9800\n",
            "Epoch 13/30\n",
            "391/391 [==============================] - 2s 5ms/step - loss: 0.0049 - accuracy: 0.9988 - val_loss: 0.0855 - val_accuracy: 0.9805\n",
            "Epoch 14/30\n",
            "391/391 [==============================] - 2s 6ms/step - loss: 0.0038 - accuracy: 0.9991 - val_loss: 0.0991 - val_accuracy: 0.9795\n",
            "Epoch 15/30\n",
            "391/391 [==============================] - 2s 4ms/step - loss: 0.0030 - accuracy: 0.9991 - val_loss: 0.1017 - val_accuracy: 0.9802\n",
            "Epoch 16/30\n",
            "391/391 [==============================] - 2s 4ms/step - loss: 0.0023 - accuracy: 0.9993 - val_loss: 0.1018 - val_accuracy: 0.9809\n",
            "Epoch 17/30\n",
            "391/391 [==============================] - 2s 4ms/step - loss: 0.0018 - accuracy: 0.9996 - val_loss: 0.1099 - val_accuracy: 0.9803\n",
            "Epoch 18/30\n",
            "391/391 [==============================] - 1s 4ms/step - loss: 0.0015 - accuracy: 0.9996 - val_loss: 0.1039 - val_accuracy: 0.9811\n",
            "Epoch 19/30\n",
            "391/391 [==============================] - 2s 4ms/step - loss: 0.0013 - accuracy: 0.9997 - val_loss: 0.1038 - val_accuracy: 0.9819\n",
            "Epoch 20/30\n",
            "391/391 [==============================] - 1s 4ms/step - loss: 9.4179e-04 - accuracy: 0.9997 - val_loss: 0.0993 - val_accuracy: 0.9817\n",
            "Epoch 21/30\n",
            "391/391 [==============================] - 1s 4ms/step - loss: 7.1230e-04 - accuracy: 0.9998 - val_loss: 0.1113 - val_accuracy: 0.9809\n",
            "Epoch 22/30\n",
            "391/391 [==============================] - 1s 4ms/step - loss: 5.7773e-04 - accuracy: 0.9999 - val_loss: 0.1125 - val_accuracy: 0.9826\n",
            "Epoch 23/30\n",
            "391/391 [==============================] - 1s 4ms/step - loss: 6.4567e-04 - accuracy: 0.9998 - val_loss: 0.1169 - val_accuracy: 0.9828\n",
            "Epoch 24/30\n",
            "391/391 [==============================] - 2s 4ms/step - loss: 3.3037e-04 - accuracy: 0.9999 - val_loss: 0.1253 - val_accuracy: 0.9819\n",
            "Epoch 25/30\n",
            "391/391 [==============================] - 1s 4ms/step - loss: 2.6967e-04 - accuracy: 0.9999 - val_loss: 0.1315 - val_accuracy: 0.9817\n",
            "Epoch 26/30\n",
            "391/391 [==============================] - 2s 4ms/step - loss: 3.2630e-04 - accuracy: 0.9999 - val_loss: 0.1252 - val_accuracy: 0.9809\n",
            "Epoch 27/30\n",
            "391/391 [==============================] - 1s 4ms/step - loss: 2.4009e-04 - accuracy: 0.9999 - val_loss: 0.1345 - val_accuracy: 0.9822\n",
            "Epoch 28/30\n",
            "391/391 [==============================] - 2s 5ms/step - loss: 1.7332e-04 - accuracy: 0.9999 - val_loss: 0.1337 - val_accuracy: 0.9816\n",
            "Epoch 29/30\n",
            "391/391 [==============================] - 1s 4ms/step - loss: 2.5447e-04 - accuracy: 0.9999 - val_loss: 0.1327 - val_accuracy: 0.9823\n",
            "Epoch 30/30\n",
            "391/391 [==============================] - 1s 4ms/step - loss: 1.5073e-04 - accuracy: 1.0000 - val_loss: 0.1426 - val_accuracy: 0.9812\n"
          ]
        }
      ]
    },
    {
      "cell_type": "code",
      "source": [
        "pinta_perdida_entrenamiento_validacion(historia0)"
      ],
      "metadata": {
        "id": "OvhDZvS8-0mG",
        "outputId": "500aa527-8fc8-43f0-9f31-79487b2dd7d1",
        "colab": {
          "base_uri": "https://localhost:8080/",
          "height": 295
        }
      },
      "execution_count": null,
      "outputs": [
        {
          "output_type": "display_data",
          "data": {
            "text/plain": [
              "<Figure size 432x288 with 1 Axes>"
            ],
            "image/png": "[encoded data removed]"
          },
          "metadata": {
            "needs_background": "light"
          }
        }
      ]
    },
    {
      "cell_type": "code",
      "source": [
        "pinta_precision_entrenamiento_validacion(historia0)"
      ],
      "metadata": {
        "id": "UuiL2CCH_fGN",
        "outputId": "d8a827e1-be63-44f8-cad9-628b79ca69bf",
        "colab": {
          "base_uri": "https://localhost:8080/",
          "height": 295
        }
      },
      "execution_count": null,
      "outputs": [
        {
          "output_type": "display_data",
          "data": {
            "text/plain": [
              "<Figure size 432x288 with 1 Axes>"
            ],
            "image/png": "[encoded data removed]"
          },
          "metadata": {
            "needs_background": "light"
          }
        }
      ]
    },
    {
      "cell_type": "markdown",
      "source": [
        "### Caso 1: Con regularizador l1"
      ],
      "metadata": {
        "id": "pw6iBGO5Bg8J"
      }
    },
    {
      "cell_type": "code",
      "source": [
        "network1 = crea_modelo(1)"
      ],
      "metadata": {
        "id": "D6JPtw5zCz-1",
        "outputId": "e7ef86e1-27b3-474d-98f3-0effa667f936",
        "colab": {
          "base_uri": "https://localhost:8080/"
        }
      },
      "execution_count": null,
      "outputs": [
        {
          "output_type": "stream",
          "name": "stdout",
          "text": [
            "Model: \"sequential_1\"\n",
            "_________________________________________________________________\n",
            " Layer (type)                Output Shape              Param #   \n",
            "=================================================================\n",
            " dense_2 (Dense)             (None, 512)               401920    \n",
            "                                                                 \n",
            " dense_3 (Dense)             (None, 10)                5130      \n",
            "                                                                 \n",
            "=================================================================\n",
            "Total params: 407,050\n",
            "Trainable params: 407,050\n",
            "Non-trainable params: 0\n",
            "_________________________________________________________________\n"
          ]
        }
      ]
    },
    {
      "cell_type": "code",
      "source": [
        "network1 = compila_modelo(network1)"
      ],
      "metadata": {
        "id": "zL3Gp7wvFRq3"
      },
      "execution_count": null,
      "outputs": []
    },
    {
      "cell_type": "code",
      "source": [
        "historia1 = entrena_modelo(network1)"
      ],
      "metadata": {
        "id": "G2FG1Z4xFW72",
        "outputId": "542ddca0-f3e3-4548-8b76-18cad36ab71c",
        "colab": {
          "base_uri": "https://localhost:8080/"
        }
      },
      "execution_count": null,
      "outputs": [
        {
          "output_type": "stream",
          "name": "stdout",
          "text": [
            "Epoch 1/30\n",
            "391/391 [==============================] - 3s 5ms/step - loss: 2.1426 - accuracy: 0.8445 - val_loss: 1.1107 - val_accuracy: 0.8673\n",
            "Epoch 2/30\n",
            "391/391 [==============================] - 1s 4ms/step - loss: 0.9731 - accuracy: 0.8779 - val_loss: 0.8643 - val_accuracy: 0.9081\n",
            "Epoch 3/30\n",
            "391/391 [==============================] - 2s 4ms/step - loss: 0.8473 - accuracy: 0.8979 - val_loss: 0.7387 - val_accuracy: 0.9316\n",
            "Epoch 4/30\n",
            "391/391 [==============================] - 2s 4ms/step - loss: 0.7677 - accuracy: 0.9145 - val_loss: 0.7092 - val_accuracy: 0.9314\n",
            "Epoch 5/30\n",
            "391/391 [==============================] - 2s 4ms/step - loss: 0.7148 - accuracy: 0.9236 - val_loss: 0.6602 - val_accuracy: 0.9378\n",
            "Epoch 6/30\n",
            "391/391 [==============================] - 1s 4ms/step - loss: 0.6745 - accuracy: 0.9304 - val_loss: 0.6182 - val_accuracy: 0.9455\n",
            "Epoch 7/30\n",
            "391/391 [==============================] - 2s 4ms/step - loss: 0.6451 - accuracy: 0.9361 - val_loss: 0.6351 - val_accuracy: 0.9376\n",
            "Epoch 8/30\n",
            "391/391 [==============================] - 1s 4ms/step - loss: 0.6219 - accuracy: 0.9394 - val_loss: 0.6020 - val_accuracy: 0.9446\n",
            "Epoch 9/30\n",
            "391/391 [==============================] - 2s 4ms/step - loss: 0.6013 - accuracy: 0.9428 - val_loss: 0.5919 - val_accuracy: 0.9489\n",
            "Epoch 10/30\n",
            "391/391 [==============================] - 2s 4ms/step - loss: 0.5874 - accuracy: 0.9453 - val_loss: 0.5475 - val_accuracy: 0.9561\n",
            "Epoch 11/30\n",
            "391/391 [==============================] - 1s 4ms/step - loss: 0.5753 - accuracy: 0.9460 - val_loss: 0.5451 - val_accuracy: 0.9586\n",
            "Epoch 12/30\n",
            "391/391 [==============================] - 1s 4ms/step - loss: 0.5639 - accuracy: 0.9479 - val_loss: 0.5290 - val_accuracy: 0.9576\n",
            "Epoch 13/30\n",
            "391/391 [==============================] - 2s 4ms/step - loss: 0.5544 - accuracy: 0.9506 - val_loss: 0.5409 - val_accuracy: 0.9531\n",
            "Epoch 14/30\n",
            "391/391 [==============================] - 2s 4ms/step - loss: 0.5464 - accuracy: 0.9514 - val_loss: 0.5306 - val_accuracy: 0.9591\n",
            "Epoch 15/30\n",
            "391/391 [==============================] - 2s 4ms/step - loss: 0.5389 - accuracy: 0.9520 - val_loss: 0.5122 - val_accuracy: 0.9614\n",
            "Epoch 16/30\n",
            "391/391 [==============================] - 2s 4ms/step - loss: 0.5325 - accuracy: 0.9530 - val_loss: 0.5073 - val_accuracy: 0.9607\n",
            "Epoch 17/30\n",
            "391/391 [==============================] - 2s 4ms/step - loss: 0.5257 - accuracy: 0.9544 - val_loss: 0.5186 - val_accuracy: 0.9561\n",
            "Epoch 18/30\n",
            "391/391 [==============================] - 2s 4ms/step - loss: 0.5218 - accuracy: 0.9538 - val_loss: 0.5148 - val_accuracy: 0.9579\n",
            "Epoch 19/30\n",
            "391/391 [==============================] - 2s 4ms/step - loss: 0.5182 - accuracy: 0.9548 - val_loss: 0.5504 - val_accuracy: 0.9469\n",
            "Epoch 20/30\n",
            "391/391 [==============================] - 1s 4ms/step - loss: 0.5119 - accuracy: 0.9564 - val_loss: 0.5275 - val_accuracy: 0.9527\n",
            "Epoch 21/30\n",
            "391/391 [==============================] - 1s 4ms/step - loss: 0.5079 - accuracy: 0.9572 - val_loss: 0.5089 - val_accuracy: 0.9571\n",
            "Epoch 22/30\n",
            "391/391 [==============================] - 1s 4ms/step - loss: 0.5056 - accuracy: 0.9565 - val_loss: 0.5190 - val_accuracy: 0.9547\n",
            "Epoch 23/30\n",
            "391/391 [==============================] - 2s 4ms/step - loss: 0.5007 - accuracy: 0.9572 - val_loss: 0.4904 - val_accuracy: 0.9640\n",
            "Epoch 24/30\n",
            "391/391 [==============================] - 2s 4ms/step - loss: 0.4978 - accuracy: 0.9583 - val_loss: 0.5000 - val_accuracy: 0.9599\n",
            "Epoch 25/30\n",
            "391/391 [==============================] - 1s 4ms/step - loss: 0.4958 - accuracy: 0.9582 - val_loss: 0.4777 - val_accuracy: 0.9638\n",
            "Epoch 26/30\n",
            "391/391 [==============================] - 1s 4ms/step - loss: 0.4921 - accuracy: 0.9590 - val_loss: 0.4815 - val_accuracy: 0.9644\n",
            "Epoch 27/30\n",
            "391/391 [==============================] - 1s 4ms/step - loss: 0.4896 - accuracy: 0.9589 - val_loss: 0.4972 - val_accuracy: 0.9584\n",
            "Epoch 28/30\n",
            "391/391 [==============================] - 2s 4ms/step - loss: 0.4888 - accuracy: 0.9589 - val_loss: 0.4947 - val_accuracy: 0.9581\n",
            "Epoch 29/30\n",
            "391/391 [==============================] - 2s 4ms/step - loss: 0.4857 - accuracy: 0.9594 - val_loss: 0.5377 - val_accuracy: 0.9431\n",
            "Epoch 30/30\n",
            "391/391 [==============================] - 1s 4ms/step - loss: 0.4846 - accuracy: 0.9591 - val_loss: 0.4565 - val_accuracy: 0.9670\n"
          ]
        }
      ]
    },
    {
      "cell_type": "code",
      "source": [
        "pinta_perdida_entrenamiento_validacion(historia1)"
      ],
      "metadata": {
        "id": "Vyv3yFtiFitw",
        "outputId": "c0265505-302b-4e8f-ebf5-55b4cea011fa",
        "colab": {
          "base_uri": "https://localhost:8080/",
          "height": 295
        }
      },
      "execution_count": null,
      "outputs": [
        {
          "output_type": "display_data",
          "data": {
            "text/plain": [
              "<Figure size 432x288 with 1 Axes>"
            ],
            "image/png": "[encoded data removed]"
          },
          "metadata": {
            "needs_background": "light"
          }
        }
      ]
    },
    {
      "cell_type": "code",
      "source": [
        "pinta_precision_entrenamiento_validacion(historia1)"
      ],
      "metadata": {
        "id": "pVUerJsqFo7K",
        "outputId": "962f808e-694c-45f4-ff56-d501f25d02b4",
        "colab": {
          "base_uri": "https://localhost:8080/",
          "height": 295
        }
      },
      "execution_count": null,
      "outputs": [
        {
          "output_type": "display_data",
          "data": {
            "text/plain": [
              "<Figure size 432x288 with 1 Axes>"
            ],
            "image/png": "[encoded data removed]"
          },
          "metadata": {
            "needs_background": "light"
          }
        }
      ]
    },
    {
      "cell_type": "markdown",
      "source": [
        "### Caso 2: Con regularizador l2"
      ],
      "metadata": {
        "id": "hklwKNlMBzya"
      }
    },
    {
      "cell_type": "code",
      "source": [
        "network2 = crea_modelo(2)"
      ],
      "metadata": {
        "id": "tjIs0FziG5Ja",
        "outputId": "226aff81-5753-430e-ba75-d27af5f4acd6",
        "colab": {
          "base_uri": "https://localhost:8080/"
        }
      },
      "execution_count": null,
      "outputs": [
        {
          "output_type": "stream",
          "name": "stdout",
          "text": [
            "Model: \"sequential_2\"\n",
            "_________________________________________________________________\n",
            " Layer (type)                Output Shape              Param #   \n",
            "=================================================================\n",
            " dense_4 (Dense)             (None, 512)               401920    \n",
            "                                                                 \n",
            " dense_5 (Dense)             (None, 10)                5130      \n",
            "                                                                 \n",
            "=================================================================\n",
            "Total params: 407,050\n",
            "Trainable params: 407,050\n",
            "Non-trainable params: 0\n",
            "_________________________________________________________________\n"
          ]
        }
      ]
    },
    {
      "cell_type": "code",
      "source": [
        "network2 = compila_modelo(network2)"
      ],
      "metadata": {
        "id": "UCdA0K_qyTUq"
      },
      "execution_count": null,
      "outputs": []
    },
    {
      "cell_type": "code",
      "source": [
        "historia2 = entrena_modelo(network2)"
      ],
      "metadata": {
        "id": "WSuomx5oybpu",
        "outputId": "8164e1d4-fc53-4ef1-901e-a0db723cf76a",
        "colab": {
          "base_uri": "https://localhost:8080/"
        }
      },
      "execution_count": null,
      "outputs": [
        {
          "output_type": "stream",
          "name": "stdout",
          "text": [
            "Epoch 1/30\n",
            "391/391 [==============================] - 3s 5ms/step - loss: 0.5244 - accuracy: 0.9127 - val_loss: 0.2906 - val_accuracy: 0.9561\n",
            "Epoch 2/30\n",
            "391/391 [==============================] - 2s 4ms/step - loss: 0.2651 - accuracy: 0.9547 - val_loss: 0.2231 - val_accuracy: 0.9625\n",
            "Epoch 3/30\n",
            "391/391 [==============================] - 1s 4ms/step - loss: 0.2118 - accuracy: 0.9628 - val_loss: 0.1875 - val_accuracy: 0.9697\n",
            "Epoch 4/30\n",
            "391/391 [==============================] - 1s 4ms/step - loss: 0.1870 - accuracy: 0.9672 - val_loss: 0.1981 - val_accuracy: 0.9647\n",
            "Epoch 5/30\n",
            "391/391 [==============================] - 1s 4ms/step - loss: 0.1720 - accuracy: 0.9694 - val_loss: 0.1700 - val_accuracy: 0.9712\n",
            "Epoch 6/30\n",
            "391/391 [==============================] - 2s 4ms/step - loss: 0.1639 - accuracy: 0.9716 - val_loss: 0.1575 - val_accuracy: 0.9738\n",
            "Epoch 7/30\n",
            "391/391 [==============================] - 1s 4ms/step - loss: 0.1562 - accuracy: 0.9732 - val_loss: 0.1883 - val_accuracy: 0.9641\n",
            "Epoch 8/30\n",
            "391/391 [==============================] - 2s 4ms/step - loss: 0.1521 - accuracy: 0.9736 - val_loss: 0.1541 - val_accuracy: 0.9736\n",
            "Epoch 9/30\n",
            "391/391 [==============================] - 1s 4ms/step - loss: 0.1470 - accuracy: 0.9743 - val_loss: 0.1480 - val_accuracy: 0.9749\n",
            "Epoch 10/30\n",
            "391/391 [==============================] - 2s 4ms/step - loss: 0.1431 - accuracy: 0.9763 - val_loss: 0.1668 - val_accuracy: 0.9706\n",
            "Epoch 11/30\n",
            "391/391 [==============================] - 1s 4ms/step - loss: 0.1376 - accuracy: 0.9767 - val_loss: 0.1540 - val_accuracy: 0.9713\n",
            "Epoch 12/30\n",
            "391/391 [==============================] - 2s 4ms/step - loss: 0.1369 - accuracy: 0.9775 - val_loss: 0.1423 - val_accuracy: 0.9752\n",
            "Epoch 13/30\n",
            "391/391 [==============================] - 2s 4ms/step - loss: 0.1351 - accuracy: 0.9773 - val_loss: 0.1574 - val_accuracy: 0.9705\n",
            "Epoch 14/30\n",
            "391/391 [==============================] - 1s 4ms/step - loss: 0.1316 - accuracy: 0.9776 - val_loss: 0.1655 - val_accuracy: 0.9703\n",
            "Epoch 15/30\n",
            "391/391 [==============================] - 1s 4ms/step - loss: 0.1289 - accuracy: 0.9786 - val_loss: 0.1876 - val_accuracy: 0.9601\n",
            "Epoch 16/30\n",
            "391/391 [==============================] - 2s 4ms/step - loss: 0.1278 - accuracy: 0.9788 - val_loss: 0.1377 - val_accuracy: 0.9753\n",
            "Epoch 17/30\n",
            "391/391 [==============================] - 2s 4ms/step - loss: 0.1254 - accuracy: 0.9795 - val_loss: 0.1494 - val_accuracy: 0.9710\n",
            "Epoch 18/30\n",
            "391/391 [==============================] - 2s 4ms/step - loss: 0.1232 - accuracy: 0.9790 - val_loss: 0.1764 - val_accuracy: 0.9618\n",
            "Epoch 19/30\n",
            "391/391 [==============================] - 1s 4ms/step - loss: 0.1214 - accuracy: 0.9804 - val_loss: 0.1435 - val_accuracy: 0.9740\n",
            "Epoch 20/30\n",
            "391/391 [==============================] - 2s 4ms/step - loss: 0.1204 - accuracy: 0.9800 - val_loss: 0.1329 - val_accuracy: 0.9780\n",
            "Epoch 21/30\n",
            "391/391 [==============================] - 2s 5ms/step - loss: 0.1176 - accuracy: 0.9803 - val_loss: 0.1461 - val_accuracy: 0.9733\n",
            "Epoch 22/30\n",
            "391/391 [==============================] - 2s 4ms/step - loss: 0.1178 - accuracy: 0.9800 - val_loss: 0.1464 - val_accuracy: 0.9717\n",
            "Epoch 23/30\n",
            "391/391 [==============================] - 2s 4ms/step - loss: 0.1184 - accuracy: 0.9805 - val_loss: 0.1731 - val_accuracy: 0.9651\n",
            "Epoch 24/30\n",
            "391/391 [==============================] - 2s 4ms/step - loss: 0.1141 - accuracy: 0.9812 - val_loss: 0.1438 - val_accuracy: 0.9729\n",
            "Epoch 25/30\n",
            "391/391 [==============================] - 2s 4ms/step - loss: 0.1133 - accuracy: 0.9815 - val_loss: 0.1369 - val_accuracy: 0.9753\n",
            "Epoch 26/30\n",
            "391/391 [==============================] - 2s 4ms/step - loss: 0.1139 - accuracy: 0.9810 - val_loss: 0.1486 - val_accuracy: 0.9725\n",
            "Epoch 27/30\n",
            "391/391 [==============================] - 1s 4ms/step - loss: 0.1115 - accuracy: 0.9816 - val_loss: 0.1366 - val_accuracy: 0.9749\n",
            "Epoch 28/30\n",
            "391/391 [==============================] - 1s 4ms/step - loss: 0.1095 - accuracy: 0.9824 - val_loss: 0.1529 - val_accuracy: 0.9707\n",
            "Epoch 29/30\n",
            "391/391 [==============================] - 2s 4ms/step - loss: 0.1105 - accuracy: 0.9813 - val_loss: 0.1311 - val_accuracy: 0.9765\n",
            "Epoch 30/30\n",
            "391/391 [==============================] - 1s 4ms/step - loss: 0.1083 - accuracy: 0.9822 - val_loss: 0.1409 - val_accuracy: 0.9737\n"
          ]
        }
      ]
    },
    {
      "cell_type": "code",
      "source": [
        "pinta_perdida_entrenamiento_validacion(historia2)"
      ],
      "metadata": {
        "id": "aXXzm8tpyj6X",
        "outputId": "73ebdf3f-3b88-4862-83bb-2028cee6a19e",
        "colab": {
          "base_uri": "https://localhost:8080/",
          "height": 295
        }
      },
      "execution_count": null,
      "outputs": [
        {
          "output_type": "display_data",
          "data": {
            "text/plain": [
              "<Figure size 432x288 with 1 Axes>"
            ],
            "image/png": "[encoded data removed]"
          },
          "metadata": {
            "needs_background": "light"
          }
        }
      ]
    },
    {
      "cell_type": "code",
      "source": [
        "pinta_precision_entrenamiento_validacion(historia2)"
      ],
      "metadata": {
        "id": "CLTsg5LTypH9",
        "outputId": "33b5d07c-4b5b-48fc-d814-046fccdea837",
        "colab": {
          "base_uri": "https://localhost:8080/",
          "height": 295
        }
      },
      "execution_count": null,
      "outputs": [
        {
          "output_type": "display_data",
          "data": {
            "text/plain": [
              "<Figure size 432x288 with 1 Axes>"
            ],
            "image/png": "[encoded data removed]"
          },
          "metadata": {
            "needs_background": "light"
          }
        }
      ]
    },
    {
      "cell_type": "markdown",
      "source": [
        "### Caso 3: Con regularizador l1_l2"
      ],
      "metadata": {
        "id": "692oWz8oB82n"
      }
    },
    {
      "cell_type": "code",
      "source": [
        "network3 = crea_modelo(3)"
      ],
      "metadata": {
        "id": "5fdxkjoKzFcu",
        "outputId": "fcdbaca5-56e8-40af-f690-aa2dcdf46154",
        "colab": {
          "base_uri": "https://localhost:8080/"
        }
      },
      "execution_count": null,
      "outputs": [
        {
          "output_type": "stream",
          "name": "stdout",
          "text": [
            "Model: \"sequential_3\"\n",
            "_________________________________________________________________\n",
            " Layer (type)                Output Shape              Param #   \n",
            "=================================================================\n",
            " dense_6 (Dense)             (None, 512)               401920    \n",
            "                                                                 \n",
            " dense_7 (Dense)             (None, 10)                5130      \n",
            "                                                                 \n",
            "=================================================================\n",
            "Total params: 407,050\n",
            "Trainable params: 407,050\n",
            "Non-trainable params: 0\n",
            "_________________________________________________________________\n"
          ]
        }
      ]
    },
    {
      "cell_type": "code",
      "source": [
        "network3 = compila_modelo(network3)"
      ],
      "metadata": {
        "id": "VJzs9A2yzPhx"
      },
      "execution_count": null,
      "outputs": []
    },
    {
      "cell_type": "code",
      "source": [
        "historia3 = entrena_modelo(network3)"
      ],
      "metadata": {
        "id": "1JCUbcCQzY6E",
        "outputId": "defb5c76-48d2-4de2-9467-3e3367ce2dcc",
        "colab": {
          "base_uri": "https://localhost:8080/"
        }
      },
      "execution_count": null,
      "outputs": [
        {
          "output_type": "stream",
          "name": "stdout",
          "text": [
            "Epoch 1/30\n",
            "391/391 [==============================] - 3s 7ms/step - loss: 2.3301 - accuracy: 0.8241 - val_loss: 1.0648 - val_accuracy: 0.8772\n",
            "Epoch 2/30\n",
            "391/391 [==============================] - 2s 4ms/step - loss: 1.0572 - accuracy: 0.8564 - val_loss: 0.9731 - val_accuracy: 0.8833\n",
            "Epoch 3/30\n",
            "391/391 [==============================] - 1s 4ms/step - loss: 0.9578 - accuracy: 0.8753 - val_loss: 0.8766 - val_accuracy: 0.9042\n",
            "Epoch 4/30\n",
            "391/391 [==============================] - 1s 4ms/step - loss: 0.8850 - accuracy: 0.8903 - val_loss: 0.8331 - val_accuracy: 0.9024\n",
            "Epoch 5/30\n",
            "391/391 [==============================] - 2s 4ms/step - loss: 0.8314 - accuracy: 0.9009 - val_loss: 0.7548 - val_accuracy: 0.9259\n",
            "Epoch 6/30\n",
            "391/391 [==============================] - 1s 4ms/step - loss: 0.7884 - accuracy: 0.9080 - val_loss: 0.7743 - val_accuracy: 0.9078\n",
            "Epoch 7/30\n",
            "391/391 [==============================] - 2s 4ms/step - loss: 0.7555 - accuracy: 0.9141 - val_loss: 0.6971 - val_accuracy: 0.9316\n",
            "Epoch 8/30\n",
            "391/391 [==============================] - 2s 4ms/step - loss: 0.7264 - accuracy: 0.9207 - val_loss: 0.6745 - val_accuracy: 0.9348\n",
            "Epoch 9/30\n",
            "391/391 [==============================] - 2s 4ms/step - loss: 0.7032 - accuracy: 0.9246 - val_loss: 0.6896 - val_accuracy: 0.9271\n",
            "Epoch 10/30\n",
            "391/391 [==============================] - 2s 4ms/step - loss: 0.6838 - accuracy: 0.9284 - val_loss: 0.6331 - val_accuracy: 0.9482\n",
            "Epoch 11/30\n",
            "391/391 [==============================] - 2s 4ms/step - loss: 0.6701 - accuracy: 0.9307 - val_loss: 0.6163 - val_accuracy: 0.9487\n",
            "Epoch 12/30\n",
            "391/391 [==============================] - 1s 4ms/step - loss: 0.6546 - accuracy: 0.9336 - val_loss: 0.6432 - val_accuracy: 0.9415\n",
            "Epoch 13/30\n",
            "391/391 [==============================] - 2s 4ms/step - loss: 0.6428 - accuracy: 0.9354 - val_loss: 0.6152 - val_accuracy: 0.9418\n",
            "Epoch 14/30\n",
            "391/391 [==============================] - 2s 4ms/step - loss: 0.6289 - accuracy: 0.9381 - val_loss: 0.5846 - val_accuracy: 0.9473\n",
            "Epoch 15/30\n",
            "391/391 [==============================] - 2s 4ms/step - loss: 0.6209 - accuracy: 0.9392 - val_loss: 0.5976 - val_accuracy: 0.9473\n",
            "Epoch 16/30\n",
            "391/391 [==============================] - 2s 4ms/step - loss: 0.6127 - accuracy: 0.9406 - val_loss: 0.5767 - val_accuracy: 0.9534\n",
            "Epoch 17/30\n",
            "391/391 [==============================] - 2s 4ms/step - loss: 0.6053 - accuracy: 0.9416 - val_loss: 0.5609 - val_accuracy: 0.9589\n",
            "Epoch 18/30\n",
            "391/391 [==============================] - 2s 4ms/step - loss: 0.5980 - accuracy: 0.9435 - val_loss: 0.5811 - val_accuracy: 0.9489\n",
            "Epoch 19/30\n",
            "391/391 [==============================] - 2s 4ms/step - loss: 0.5895 - accuracy: 0.9444 - val_loss: 0.5376 - val_accuracy: 0.9577\n",
            "Epoch 20/30\n",
            "391/391 [==============================] - 2s 4ms/step - loss: 0.5840 - accuracy: 0.9447 - val_loss: 0.6406 - val_accuracy: 0.9233\n",
            "Epoch 21/30\n",
            "391/391 [==============================] - 1s 4ms/step - loss: 0.5780 - accuracy: 0.9457 - val_loss: 0.5556 - val_accuracy: 0.9560\n",
            "Epoch 22/30\n",
            "391/391 [==============================] - 2s 4ms/step - loss: 0.5718 - accuracy: 0.9462 - val_loss: 0.5475 - val_accuracy: 0.9565\n",
            "Epoch 23/30\n",
            "391/391 [==============================] - 2s 4ms/step - loss: 0.5687 - accuracy: 0.9469 - val_loss: 0.5691 - val_accuracy: 0.9474\n",
            "Epoch 24/30\n",
            "391/391 [==============================] - 1s 4ms/step - loss: 0.5627 - accuracy: 0.9478 - val_loss: 0.5573 - val_accuracy: 0.9504\n",
            "Epoch 25/30\n",
            "391/391 [==============================] - 2s 4ms/step - loss: 0.5594 - accuracy: 0.9484 - val_loss: 0.5772 - val_accuracy: 0.9405\n",
            "Epoch 26/30\n",
            "391/391 [==============================] - 1s 4ms/step - loss: 0.5546 - accuracy: 0.9491 - val_loss: 0.5580 - val_accuracy: 0.9483\n",
            "Epoch 27/30\n",
            "391/391 [==============================] - 1s 4ms/step - loss: 0.5526 - accuracy: 0.9494 - val_loss: 0.5272 - val_accuracy: 0.9569\n",
            "Epoch 28/30\n",
            "391/391 [==============================] - 2s 4ms/step - loss: 0.5499 - accuracy: 0.9493 - val_loss: 0.5888 - val_accuracy: 0.9354\n",
            "Epoch 29/30\n",
            "391/391 [==============================] - 1s 4ms/step - loss: 0.5453 - accuracy: 0.9504 - val_loss: 0.5782 - val_accuracy: 0.9376\n",
            "Epoch 30/30\n",
            "391/391 [==============================] - 2s 4ms/step - loss: 0.5397 - accuracy: 0.9515 - val_loss: 0.5502 - val_accuracy: 0.9528\n"
          ]
        }
      ]
    },
    {
      "cell_type": "code",
      "source": [
        "pinta_perdida_entrenamiento_validacion(historia3)"
      ],
      "metadata": {
        "id": "I8XzPVtyze8y",
        "outputId": "548eda39-01ef-4293-c385-eaace0b80bcf",
        "colab": {
          "base_uri": "https://localhost:8080/",
          "height": 295
        }
      },
      "execution_count": null,
      "outputs": [
        {
          "output_type": "display_data",
          "data": {
            "text/plain": [
              "<Figure size 432x288 with 1 Axes>"
            ],
            "image/png": "[encoded data removed]"
          },
          "metadata": {
            "needs_background": "light"
          }
        }
      ]
    },
    {
      "cell_type": "code",
      "source": [
        "pinta_precision_entrenamiento_validacion(historia3)"
      ],
      "metadata": {
        "id": "nKk7AmM8zi3A",
        "outputId": "183a888b-8dfe-456a-b1bc-da8fba0604a4",
        "colab": {
          "base_uri": "https://localhost:8080/",
          "height": 295
        }
      },
      "execution_count": null,
      "outputs": [
        {
          "output_type": "display_data",
          "data": {
            "text/plain": [
              "<Figure size 432x288 with 1 Axes>"
            ],
            "image/png": "[encoded data removed]"
          },
          "metadata": {
            "needs_background": "light"
          }
        }
      ]
    },
    {
      "cell_type": "markdown",
      "source": [
        "### Caso 4: Con Droput"
      ],
      "metadata": {
        "id": "OPVcbgcXCFRL"
      }
    },
    {
      "cell_type": "code",
      "source": [
        "network4 = crea_modelo(4)"
      ],
      "metadata": {
        "id": "5MVbUNX11Pgr",
        "outputId": "906b1799-813c-40b7-d82e-393f3c8802c2",
        "colab": {
          "base_uri": "https://localhost:8080/"
        }
      },
      "execution_count": null,
      "outputs": [
        {
          "output_type": "stream",
          "name": "stdout",
          "text": [
            "Model: \"sequential_4\"\n",
            "_________________________________________________________________\n",
            " Layer (type)                Output Shape              Param #   \n",
            "=================================================================\n",
            " dense_8 (Dense)             (None, 512)               401920    \n",
            "                                                                 \n",
            " dropout (Dropout)           (None, 512)               0         \n",
            "                                                                 \n",
            " dense_9 (Dense)             (None, 10)                5130      \n",
            "                                                                 \n",
            "=================================================================\n",
            "Total params: 407,050\n",
            "Trainable params: 407,050\n",
            "Non-trainable params: 0\n",
            "_________________________________________________________________\n"
          ]
        }
      ]
    },
    {
      "cell_type": "code",
      "source": [
        "network4 = compila_modelo(network4)"
      ],
      "metadata": {
        "id": "pT-13IKI1UpW"
      },
      "execution_count": null,
      "outputs": []
    },
    {
      "cell_type": "code",
      "source": [
        "historia4 = entrena_modelo(network4)"
      ],
      "metadata": {
        "id": "kNWidx1S1aCH",
        "outputId": "5af1604c-512c-4b1f-e211-9ddb180b4787",
        "colab": {
          "base_uri": "https://localhost:8080/"
        }
      },
      "execution_count": null,
      "outputs": [
        {
          "output_type": "stream",
          "name": "stdout",
          "text": [
            "Epoch 1/30\n",
            "391/391 [==============================] - 2s 4ms/step - loss: 0.3425 - accuracy: 0.8990 - val_loss: 0.1611 - val_accuracy: 0.9542\n",
            "Epoch 2/30\n",
            "391/391 [==============================] - 2s 4ms/step - loss: 0.1675 - accuracy: 0.9513 - val_loss: 0.1180 - val_accuracy: 0.9672\n",
            "Epoch 3/30\n",
            "391/391 [==============================] - 1s 4ms/step - loss: 0.1277 - accuracy: 0.9618 - val_loss: 0.0933 - val_accuracy: 0.9741\n",
            "Epoch 4/30\n",
            "391/391 [==============================] - 1s 4ms/step - loss: 0.1052 - accuracy: 0.9690 - val_loss: 0.0824 - val_accuracy: 0.9770\n",
            "Epoch 5/30\n",
            "391/391 [==============================] - 1s 4ms/step - loss: 0.0932 - accuracy: 0.9715 - val_loss: 0.0834 - val_accuracy: 0.9765\n",
            "Epoch 6/30\n",
            "391/391 [==============================] - 2s 4ms/step - loss: 0.0814 - accuracy: 0.9757 - val_loss: 0.0786 - val_accuracy: 0.9796\n",
            "Epoch 7/30\n",
            "391/391 [==============================] - 2s 4ms/step - loss: 0.0749 - accuracy: 0.9781 - val_loss: 0.0772 - val_accuracy: 0.9788\n",
            "Epoch 8/30\n",
            "391/391 [==============================] - 2s 4ms/step - loss: 0.0685 - accuracy: 0.9800 - val_loss: 0.0797 - val_accuracy: 0.9796\n",
            "Epoch 9/30\n",
            "391/391 [==============================] - 2s 4ms/step - loss: 0.0621 - accuracy: 0.9807 - val_loss: 0.0781 - val_accuracy: 0.9797\n",
            "Epoch 10/30\n",
            "391/391 [==============================] - 1s 4ms/step - loss: 0.0582 - accuracy: 0.9819 - val_loss: 0.0759 - val_accuracy: 0.9809\n",
            "Epoch 11/30\n",
            "391/391 [==============================] - 1s 4ms/step - loss: 0.0560 - accuracy: 0.9834 - val_loss: 0.0802 - val_accuracy: 0.9793\n",
            "Epoch 12/30\n",
            "391/391 [==============================] - 1s 4ms/step - loss: 0.0488 - accuracy: 0.9854 - val_loss: 0.0785 - val_accuracy: 0.9819\n",
            "Epoch 13/30\n",
            "391/391 [==============================] - 1s 4ms/step - loss: 0.0492 - accuracy: 0.9853 - val_loss: 0.0752 - val_accuracy: 0.9824\n",
            "Epoch 14/30\n",
            "391/391 [==============================] - 2s 4ms/step - loss: 0.0476 - accuracy: 0.9855 - val_loss: 0.0782 - val_accuracy: 0.9817\n",
            "Epoch 15/30\n",
            "391/391 [==============================] - 2s 4ms/step - loss: 0.0431 - accuracy: 0.9873 - val_loss: 0.0831 - val_accuracy: 0.9799\n",
            "Epoch 16/30\n",
            "391/391 [==============================] - 2s 4ms/step - loss: 0.0435 - accuracy: 0.9868 - val_loss: 0.0789 - val_accuracy: 0.9823\n",
            "Epoch 17/30\n",
            "391/391 [==============================] - 1s 4ms/step - loss: 0.0406 - accuracy: 0.9872 - val_loss: 0.0813 - val_accuracy: 0.9827\n",
            "Epoch 18/30\n",
            "391/391 [==============================] - 2s 4ms/step - loss: 0.0394 - accuracy: 0.9885 - val_loss: 0.0791 - val_accuracy: 0.9823\n",
            "Epoch 19/30\n",
            "391/391 [==============================] - 1s 4ms/step - loss: 0.0366 - accuracy: 0.9889 - val_loss: 0.0830 - val_accuracy: 0.9819\n",
            "Epoch 20/30\n",
            "391/391 [==============================] - 2s 4ms/step - loss: 0.0372 - accuracy: 0.9891 - val_loss: 0.0814 - val_accuracy: 0.9819\n",
            "Epoch 21/30\n",
            "391/391 [==============================] - 1s 4ms/step - loss: 0.0335 - accuracy: 0.9902 - val_loss: 0.0936 - val_accuracy: 0.9812\n",
            "Epoch 22/30\n",
            "391/391 [==============================] - 1s 4ms/step - loss: 0.0328 - accuracy: 0.9903 - val_loss: 0.0856 - val_accuracy: 0.9832\n",
            "Epoch 23/30\n",
            "391/391 [==============================] - 1s 4ms/step - loss: 0.0326 - accuracy: 0.9908 - val_loss: 0.0853 - val_accuracy: 0.9824\n",
            "Epoch 24/30\n",
            "391/391 [==============================] - 1s 4ms/step - loss: 0.0302 - accuracy: 0.9909 - val_loss: 0.0837 - val_accuracy: 0.9826\n",
            "Epoch 25/30\n",
            "391/391 [==============================] - 1s 4ms/step - loss: 0.0295 - accuracy: 0.9912 - val_loss: 0.0915 - val_accuracy: 0.9821\n",
            "Epoch 26/30\n",
            "391/391 [==============================] - 2s 4ms/step - loss: 0.0295 - accuracy: 0.9912 - val_loss: 0.0906 - val_accuracy: 0.9824\n",
            "Epoch 27/30\n",
            "391/391 [==============================] - 1s 4ms/step - loss: 0.0271 - accuracy: 0.9915 - val_loss: 0.0956 - val_accuracy: 0.9815\n",
            "Epoch 28/30\n",
            "391/391 [==============================] - 1s 4ms/step - loss: 0.0293 - accuracy: 0.9912 - val_loss: 0.0902 - val_accuracy: 0.9822\n",
            "Epoch 29/30\n",
            "391/391 [==============================] - 1s 4ms/step - loss: 0.0267 - accuracy: 0.9922 - val_loss: 0.0896 - val_accuracy: 0.9834\n",
            "Epoch 30/30\n",
            "391/391 [==============================] - 2s 4ms/step - loss: 0.0284 - accuracy: 0.9919 - val_loss: 0.0936 - val_accuracy: 0.9829\n"
          ]
        }
      ]
    },
    {
      "cell_type": "code",
      "source": [
        "pinta_perdida_entrenamiento_validacion(historia4)"
      ],
      "metadata": {
        "id": "R9pI34Yr1gBO",
        "outputId": "f6096f89-c5dc-454d-9708-ce492960a3fd",
        "colab": {
          "base_uri": "https://localhost:8080/",
          "height": 295
        }
      },
      "execution_count": null,
      "outputs": [
        {
          "output_type": "display_data",
          "data": {
            "text/plain": [
              "<Figure size 432x288 with 1 Axes>"
            ],
            "image/png": "[encoded data removed]"
          },
          "metadata": {
            "needs_background": "light"
          }
        }
      ]
    },
    {
      "cell_type": "code",
      "source": [
        "pinta_precision_entrenamiento_validacion(historia4)"
      ],
      "metadata": {
        "id": "EwEIEOKx1lQr",
        "outputId": "0f8d58f7-0d57-4810-857c-8a086041caa1",
        "colab": {
          "base_uri": "https://localhost:8080/",
          "height": 295
        }
      },
      "execution_count": null,
      "outputs": [
        {
          "output_type": "display_data",
          "data": {
            "text/plain": [
              "<Figure size 432x288 with 1 Axes>"
            ],
            "image/png": "[encoded data removed]"
          },
          "metadata": {
            "needs_background": "light"
          }
        }
      ]
    },
    {
      "cell_type": "markdown",
      "source": [
        "### Caso 5: Error de código de regularizador"
      ],
      "metadata": {
        "id": "e6rlKx2nCOgU"
      }
    },
    {
      "cell_type": "code",
      "source": [
        "network5 = crea_modelo(5)"
      ],
      "metadata": {
        "id": "SqGDm8VM1rwR",
        "outputId": "520fe1c2-b372-4550-efea-64cab3a91cb5",
        "colab": {
          "base_uri": "https://localhost:8080/",
          "height": 328
        }
      },
      "execution_count": null,
      "outputs": [
        {
          "output_type": "stream",
          "name": "stdout",
          "text": [
            "El número no es válido\n"
          ]
        },
        {
          "output_type": "error",
          "ename": "ValueError",
          "evalue": "ignored",
          "traceback": [
            "\u001b[0;31m---------------------------------------------------------------------------\u001b[0m",
            "\u001b[0;31mValueError\u001b[0m                                Traceback (most recent call last)",
            "\u001b[0;32m<ipython-input-35-23863d6b79b8>\u001b[0m in \u001b[0;36m<module>\u001b[0;34m\u001b[0m\n\u001b[0;32m----> 1\u001b[0;31m \u001b[0mnetwork5\u001b[0m \u001b[0;34m=\u001b[0m \u001b[0mcrea_modelo\u001b[0m\u001b[0;34m(\u001b[0m\u001b[0;36m5\u001b[0m\u001b[0;34m)\u001b[0m\u001b[0;34m\u001b[0m\u001b[0;34m\u001b[0m\u001b[0m\n\u001b[0m",
            "\u001b[0;32m<ipython-input-5-5b475ae2436f>\u001b[0m in \u001b[0;36mcrea_modelo\u001b[0;34m(regularizador)\u001b[0m\n\u001b[1;32m     15\u001b[0m     \u001b[0mprint\u001b[0m\u001b[0;34m(\u001b[0m\u001b[0;34m'El número no es válido'\u001b[0m\u001b[0;34m)\u001b[0m\u001b[0;34m\u001b[0m\u001b[0;34m\u001b[0m\u001b[0m\n\u001b[1;32m     16\u001b[0m   \u001b[0mnetwork\u001b[0m\u001b[0;34m.\u001b[0m\u001b[0madd\u001b[0m\u001b[0;34m(\u001b[0m\u001b[0mlayers\u001b[0m\u001b[0;34m.\u001b[0m\u001b[0mDense\u001b[0m\u001b[0;34m(\u001b[0m\u001b[0;36m10\u001b[0m\u001b[0;34m,\u001b[0m \u001b[0mactivation\u001b[0m\u001b[0;34m=\u001b[0m\u001b[0;34m'softmax'\u001b[0m\u001b[0;34m)\u001b[0m\u001b[0;34m)\u001b[0m\u001b[0;34m\u001b[0m\u001b[0;34m\u001b[0m\u001b[0m\n\u001b[0;32m---> 17\u001b[0;31m   \u001b[0mnetwork\u001b[0m\u001b[0;34m.\u001b[0m\u001b[0msummary\u001b[0m\u001b[0;34m(\u001b[0m\u001b[0;34m)\u001b[0m\u001b[0;34m\u001b[0m\u001b[0;34m\u001b[0m\u001b[0m\n\u001b[0m\u001b[1;32m     18\u001b[0m   \u001b[0;32mreturn\u001b[0m \u001b[0mnetwork\u001b[0m\u001b[0;34m\u001b[0m\u001b[0;34m\u001b[0m\u001b[0m\n\u001b[1;32m     19\u001b[0m   \u001b[0;31m# Define una función que recibe un número del 0 al 4 que creará:\u001b[0m\u001b[0;34m\u001b[0m\u001b[0;34m\u001b[0m\u001b[0;34m\u001b[0m\u001b[0m\n",
            "\u001b[0;32m/usr/local/lib/python3.7/dist-packages/keras/engine/training.py\u001b[0m in \u001b[0;36msummary\u001b[0;34m(self, line_length, positions, print_fn, expand_nested, show_trainable)\u001b[0m\n\u001b[1;32m   2868\u001b[0m     \u001b[0;32mif\u001b[0m \u001b[0;32mnot\u001b[0m \u001b[0mself\u001b[0m\u001b[0;34m.\u001b[0m\u001b[0mbuilt\u001b[0m\u001b[0;34m:\u001b[0m\u001b[0;34m\u001b[0m\u001b[0;34m\u001b[0m\u001b[0m\n\u001b[1;32m   2869\u001b[0m       raise ValueError(\n\u001b[0;32m-> 2870\u001b[0;31m           \u001b[0;34m'This model has not yet been built. '\u001b[0m\u001b[0;34m\u001b[0m\u001b[0;34m\u001b[0m\u001b[0m\n\u001b[0m\u001b[1;32m   2871\u001b[0m           \u001b[0;34m'Build the model first by calling `build()` or by calling '\u001b[0m\u001b[0;34m\u001b[0m\u001b[0;34m\u001b[0m\u001b[0m\n\u001b[1;32m   2872\u001b[0m           'the model on a batch of data.')\n",
            "\u001b[0;31mValueError\u001b[0m: This model has not yet been built. Build the model first by calling `build()` or by calling the model on a batch of data."
          ]
        }
      ]
    },
    {
      "cell_type": "markdown",
      "source": [
        "### CONCLUSIONES"
      ],
      "metadata": {
        "id": "IklUu29cCcVe"
      }
    },
    {
      "cell_type": "markdown",
      "source": [
        "Viendo las distintos resultados obtenidos al realizar los diversos modelos comprobamos que el modelo que mejor actúa es el modelo en que utilizamos dropout.\n",
        "\n",
        "En cuanto a los regularizadores l1 y l2, tenemos que el mejor modelo es aquel en el que utilizamos el regularizador l2 que es el más parecido al modelo en el cual empleamos dropout.\n",
        "\n",
        "Por último se encuentran los modelos en los que empleamos el regularizador l1 y l1 con l2 que son iguales prácticamente pero peores que los otros dos casos mencionados anteriormente.\n",
        "\n",
        "Claramente los modelos en los que utilizamos regularizadores son mucho mejores que el caso en el cual no utilizamos ninguno de ellos.\n"
      ],
      "metadata": {
        "id": "cB_OYjjaChzN"
      }
    }
  ]
}