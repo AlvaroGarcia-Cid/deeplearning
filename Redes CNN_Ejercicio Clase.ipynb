{
  "nbformat": 4,
  "nbformat_minor": 0,
  "metadata": {
    "colab": {
      "provenance": [],
      "include_colab_link": true
    },
    "kernelspec": {
      "name": "python3",
      "display_name": "Python 3"
    },
    "language_info": {
      "name": "python"
    },
    "accelerator": "GPU",
    "gpuClass": "standard"
  },
  "cells": [
    {
      "cell_type": "markdown",
      "metadata": {
        "id": "view-in-github",
        "colab_type": "text"
      },
      "source": [
        "<a href=\"https://colab.research.google.com/github/AlvaroGarcia-Cid/deeplearning/blob/main/Redes%20CNN_Ejercicio%20Clase.ipynb\" target=\"_parent\"><img src=\"https://colab.research.google.com/assets/colab-badge.svg\" alt=\"Open In Colab\"/></a>"
      ]
    },
    {
      "cell_type": "code",
      "execution_count": 18,
      "metadata": {
        "id": "XpNGzfU8ACaQ",
        "colab": {
          "base_uri": "https://localhost:8080/"
        },
        "outputId": "0f032d74-a7ca-41b8-d3bb-197d263010e3"
      },
      "outputs": [
        {
          "output_type": "stream",
          "name": "stdout",
          "text": [
            "Colab only includes TensorFlow 2.x; %tensorflow_version has no effect.\n",
            "2.9.2\n"
          ]
        }
      ],
      "source": [
        "%tensorflow_version 2.x\n",
        "import tensorflow as tf\n",
        "from tensorflow import keras\n",
        "\n",
        "import numpy as np\n",
        "import matplotlib.pyplot as plt\n",
        "\n",
        "print(tf.__version__)#\n",
        "\n",
        "from tensorflow.keras.models import Sequential\n",
        "from tensorflow.keras.layers import Dense, Flatten, Conv2D, MaxPooling2D\n",
        "from tensorflow.keras.losses import sparse_categorical_crossentropy\n",
        "from tensorflow.keras.optimizers import Adam\n",
        "import matplotlib.pyplot as plt"
      ]
    },
    {
      "cell_type": "code",
      "source": [
        "# Configuración del modelo\n",
        "batch_size = 50\n",
        "img_width, img_height, img_num_channels = 32,32,3\n",
        "loss_function = sparse_categorical_crossentropy\n",
        "no_classes = 100\n",
        "no_epochs = 100\n",
        "optimizer = Adam()\n",
        "validation_split = 0.2\n",
        "verbosity = 1\n",
        "input_shape = (32, 32, 3)"
      ],
      "metadata": {
        "id": "cvrXA-JaAF8h"
      },
      "execution_count": 19,
      "outputs": []
    },
    {
      "cell_type": "code",
      "source": [
        "(train_images, train_labels), (test_images, test_labels) = tf.keras.datasets.cifar100.load_data(label_mode=\"fine\")\n",
        "# CIFAR: https://www.cs.toronto.edu/~kriz/cifar.html\n",
        "assert train_images.shape == (50000,32,32,3)\n",
        "assert test_images.shape == (10000,32,32,3)\n",
        "assert train_labels.shape == (50000,1)\n",
        "assert test_labels.shape == (10000,1)"
      ],
      "metadata": {
        "id": "RYgWQWuZAPaH"
      },
      "execution_count": 20,
      "outputs": []
    },
    {
      "cell_type": "code",
      "source": [
        "len(train_labels)"
      ],
      "metadata": {
        "colab": {
          "base_uri": "https://localhost:8080/"
        },
        "id": "VUqFVgvzbgbV",
        "outputId": "c79aadff-9d4f-430d-f89d-5469be9de666"
      },
      "execution_count": 21,
      "outputs": [
        {
          "output_type": "execute_result",
          "data": {
            "text/plain": [
              "50000"
            ]
          },
          "metadata": {},
          "execution_count": 21
        }
      ]
    },
    {
      "cell_type": "code",
      "source": [
        "# Pintamos la tercera imagen de entrenamiento (la número 2 en el array)\n",
        "import matplotlib.pyplot as plt\n",
        "digit = train_images[2]\n",
        "plt.imshow(digit, cmap=plt.cm.binary)\n",
        "plt.show()"
      ],
      "metadata": {
        "id": "YOIWl3BhAvoH",
        "colab": {
          "base_uri": "https://localhost:8080/",
          "height": 266
        },
        "outputId": "6f83f4a2-c0e4-4054-ff87-b8699041cab0"
      },
      "execution_count": 22,
      "outputs": [
        {
          "output_type": "display_data",
          "data": {
            "text/plain": [
              "<Figure size 432x288 with 1 Axes>"
            ],
            "image/png": "[encoded data removed]"
          },
          "metadata": {
            "needs_background": "light"
          }
        }
      ]
    },
    {
      "cell_type": "code",
      "source": [
        "print(train_images[2].shape)\n",
        "print(train_images[2])"
      ],
      "metadata": {
        "id": "CYxj_8S2AwiK",
        "colab": {
          "base_uri": "https://localhost:8080/"
        },
        "outputId": "6cf66fcb-1409-4015-f757-b293a42415c6"
      },
      "execution_count": 23,
      "outputs": [
        {
          "output_type": "stream",
          "name": "stdout",
          "text": [
            "(32, 32, 3)\n",
            "[[[250 250 248]\n",
            "  [248 249 243]\n",
            "  [247 248 239]\n",
            "  ...\n",
            "  [250 250 246]\n",
            "  [250 250 246]\n",
            "  [249 250 246]]\n",
            "\n",
            " [[250 251 245]\n",
            "  [248 249 238]\n",
            "  [247 247 234]\n",
            "  ...\n",
            "  [251 251 242]\n",
            "  [251 252 243]\n",
            "  [250 251 243]]\n",
            "\n",
            " [[251 251 244]\n",
            "  [250 248 237]\n",
            "  [250 245 233]\n",
            "  ...\n",
            "  [250 249 238]\n",
            "  [250 249 240]\n",
            "  [250 249 242]]\n",
            "\n",
            " ...\n",
            "\n",
            " [[221 213 191]\n",
            "  [221 206 176]\n",
            "  [225 207 181]\n",
            "  ...\n",
            "  [199 176 134]\n",
            "  [207 193 165]\n",
            "  [233 229 226]]\n",
            "\n",
            " [[225 223 204]\n",
            "  [227 219 196]\n",
            "  [229 216 200]\n",
            "  ...\n",
            "  [204 185 151]\n",
            "  [212 201 180]\n",
            "  [234 232 228]]\n",
            "\n",
            " [[233 233 226]\n",
            "  [234 232 224]\n",
            "  [235 230 225]\n",
            "  ...\n",
            "  [219 209 194]\n",
            "  [223 216 207]\n",
            "  [232 230 228]]]\n"
          ]
        }
      ]
    },
    {
      "cell_type": "code",
      "source": [
        "# Normalizar imágenes de entrenamiento y de test\n",
        "train_images = train_images.reshape((50000, 32, 32, 3))\n",
        "train_images = train_images.astype('float32') / 255\n",
        "\n",
        "test_images = test_images.reshape((10000, 32, 32, 3))\n",
        "test_images = test_images.astype('float32') / 255"
      ],
      "metadata": {
        "id": "K0teESsKA8N7"
      },
      "execution_count": 24,
      "outputs": []
    },
    {
      "cell_type": "code",
      "source": [
        "print (train_images.shape)\n",
        "print (train_labels.shape)"
      ],
      "metadata": {
        "id": "jHxaQNAdBDTQ",
        "colab": {
          "base_uri": "https://localhost:8080/"
        },
        "outputId": "0677b1f4-7f9b-43c1-f4ca-6bb11929e58c"
      },
      "execution_count": 25,
      "outputs": [
        {
          "output_type": "stream",
          "name": "stdout",
          "text": [
            "(50000, 32, 32, 3)\n",
            "(50000, 1)\n"
          ]
        }
      ]
    },
    {
      "cell_type": "code",
      "source": [
        "# Crear el Modelo de red neuronal CNN con:\n",
        "# stride = 1\n",
        "# ventanas convolucionales de 3x3\n",
        "# ventanas de pooling de 2x2\n",
        "# funciones de activación 'relu'\n",
        "# 3 capas convolucionales con 32, 64 y 28 filtros respectivamente\n",
        "# Aplanamos la última salida y añadimos dos capas densas con función activación \n",
        "# 'relu' de 256 y 128 neuronas cada una.\n",
        "# Tenemos en cuenta el número de clases a clasificar para poner la capa final\n",
        "from tensorflow.keras import Sequential\n",
        "from tensorflow.keras.layers import Conv2D\n",
        "from tensorflow.keras.layers import MaxPooling2D\n",
        "from tensorflow.keras.layers import Dense\n",
        "from tensorflow.keras.layers import Flatten\n",
        "\n",
        "model = Sequential()\n",
        "model.add(Conv2D(32, (3, 3), strides=(1, 1), activation='relu', input_shape=(32, 32, 3)))\n",
        "model.add(MaxPooling2D((2, 2)))\n",
        "\n",
        "model.add(Conv2D(64, (3, 3), strides=(1, 1), activation='relu'))\n",
        "model.add(MaxPooling2D((2, 2)))\n",
        "\n",
        "model.add(Conv2D(128, (3, 3), strides=(1, 1), activation='relu'))\n",
        "model.add(MaxPooling2D((2, 2)))\n",
        "\n",
        "model.add(Flatten())\n",
        "model.add(Dense(256,activation='relu'))\n",
        "model.add(Dense(128,activation='relu'))\n",
        "model.add(Dense(100, activation='softmax'))\n",
        "model.summary()"
      ],
      "metadata": {
        "id": "AQhtNiJlBGfx",
        "colab": {
          "base_uri": "https://localhost:8080/"
        },
        "outputId": "541014d7-45c7-4a23-a777-038fe97b21fa"
      },
      "execution_count": 26,
      "outputs": [
        {
          "output_type": "stream",
          "name": "stdout",
          "text": [
            "Model: \"sequential_2\"\n",
            "_________________________________________________________________\n",
            " Layer (type)                Output Shape              Param #   \n",
            "=================================================================\n",
            " conv2d_6 (Conv2D)           (None, 30, 30, 32)        896       \n",
            "                                                                 \n",
            " max_pooling2d_6 (MaxPooling  (None, 15, 15, 32)       0         \n",
            " 2D)                                                             \n",
            "                                                                 \n",
            " conv2d_7 (Conv2D)           (None, 13, 13, 64)        18496     \n",
            "                                                                 \n",
            " max_pooling2d_7 (MaxPooling  (None, 6, 6, 64)         0         \n",
            " 2D)                                                             \n",
            "                                                                 \n",
            " conv2d_8 (Conv2D)           (None, 4, 4, 128)         73856     \n",
            "                                                                 \n",
            " max_pooling2d_8 (MaxPooling  (None, 2, 2, 128)        0         \n",
            " 2D)                                                             \n",
            "                                                                 \n",
            " flatten_2 (Flatten)         (None, 512)               0         \n",
            "                                                                 \n",
            " dense_6 (Dense)             (None, 256)               131328    \n",
            "                                                                 \n",
            " dense_7 (Dense)             (None, 128)               32896     \n",
            "                                                                 \n",
            " dense_8 (Dense)             (None, 100)               12900     \n",
            "                                                                 \n",
            "=================================================================\n",
            "Total params: 270,372\n",
            "Trainable params: 270,372\n",
            "Non-trainable params: 0\n",
            "_________________________________________________________________\n"
          ]
        }
      ]
    },
    {
      "cell_type": "code",
      "source": [
        "# Compilamos el modelo con métrica preción\n",
        "model.compile(loss=loss_function,\n",
        "              optimizer=optimizer,\n",
        "              metrics=['accuracy'])"
      ],
      "metadata": {
        "id": "t631tbjkCFRr"
      },
      "execution_count": 27,
      "outputs": []
    },
    {
      "cell_type": "code",
      "source": [
        "# Ejecutamos el entrenamiento con el validation_split explicitado anteriormente\n",
        "history=model.fit(train_images, train_labels,\n",
        "          batch_size=batch_size,\n",
        "          epochs=no_epochs,\n",
        "          verbose=verbosity,\n",
        "          validation_split=validation_split)\n"
      ],
      "metadata": {
        "id": "SQMB2DMRCkcw",
        "colab": {
          "base_uri": "https://localhost:8080/"
        },
        "outputId": "99f6fbe7-b0b3-42cf-9ff0-aaf8c2042b14"
      },
      "execution_count": 28,
      "outputs": [
        {
          "output_type": "stream",
          "name": "stdout",
          "text": [
            "Epoch 1/100\n",
            "800/800 [==============================] - 4s 5ms/step - loss: 4.1269 - accuracy: 0.0651 - val_loss: 3.7239 - val_accuracy: 0.1234\n",
            "Epoch 2/100\n",
            "800/800 [==============================] - 4s 4ms/step - loss: 3.4860 - accuracy: 0.1636 - val_loss: 3.3375 - val_accuracy: 0.1924\n",
            "Epoch 3/100\n",
            "800/800 [==============================] - 4s 4ms/step - loss: 3.1599 - accuracy: 0.2260 - val_loss: 3.1023 - val_accuracy: 0.2376\n",
            "Epoch 4/100\n",
            "800/800 [==============================] - 4s 4ms/step - loss: 2.9423 - accuracy: 0.2659 - val_loss: 2.9611 - val_accuracy: 0.2595\n",
            "Epoch 5/100\n",
            "800/800 [==============================] - 3s 4ms/step - loss: 2.7644 - accuracy: 0.2995 - val_loss: 2.8666 - val_accuracy: 0.2837\n",
            "Epoch 6/100\n",
            "800/800 [==============================] - 4s 4ms/step - loss: 2.6211 - accuracy: 0.3295 - val_loss: 2.8648 - val_accuracy: 0.2872\n",
            "Epoch 7/100\n",
            "800/800 [==============================] - 3s 4ms/step - loss: 2.4859 - accuracy: 0.3559 - val_loss: 2.7144 - val_accuracy: 0.3159\n",
            "Epoch 8/100\n",
            "800/800 [==============================] - 4s 5ms/step - loss: 2.3679 - accuracy: 0.3828 - val_loss: 2.6598 - val_accuracy: 0.3304\n",
            "Epoch 9/100\n",
            "800/800 [==============================] - 4s 5ms/step - loss: 2.2631 - accuracy: 0.4039 - val_loss: 2.6832 - val_accuracy: 0.3274\n",
            "Epoch 10/100\n",
            "800/800 [==============================] - 4s 4ms/step - loss: 2.1712 - accuracy: 0.4247 - val_loss: 2.6506 - val_accuracy: 0.3423\n",
            "Epoch 11/100\n",
            "800/800 [==============================] - 4s 4ms/step - loss: 2.0755 - accuracy: 0.4443 - val_loss: 2.7044 - val_accuracy: 0.3362\n",
            "Epoch 12/100\n",
            "800/800 [==============================] - 4s 4ms/step - loss: 1.9960 - accuracy: 0.4632 - val_loss: 2.7055 - val_accuracy: 0.3469\n",
            "Epoch 13/100\n",
            "800/800 [==============================] - 4s 4ms/step - loss: 1.9106 - accuracy: 0.4810 - val_loss: 2.7149 - val_accuracy: 0.3453\n",
            "Epoch 14/100\n",
            "800/800 [==============================] - 4s 4ms/step - loss: 1.8303 - accuracy: 0.4998 - val_loss: 2.7361 - val_accuracy: 0.3422\n",
            "Epoch 15/100\n",
            "800/800 [==============================] - 3s 4ms/step - loss: 1.7546 - accuracy: 0.5151 - val_loss: 2.7933 - val_accuracy: 0.3447\n",
            "Epoch 16/100\n",
            "800/800 [==============================] - 3s 4ms/step - loss: 1.6787 - accuracy: 0.5332 - val_loss: 2.8250 - val_accuracy: 0.3382\n",
            "Epoch 17/100\n",
            "800/800 [==============================] - 4s 4ms/step - loss: 1.6096 - accuracy: 0.5507 - val_loss: 2.8909 - val_accuracy: 0.3431\n",
            "Epoch 18/100\n",
            "800/800 [==============================] - 3s 4ms/step - loss: 1.5489 - accuracy: 0.5634 - val_loss: 2.9832 - val_accuracy: 0.3391\n",
            "Epoch 19/100\n",
            "800/800 [==============================] - 4s 5ms/step - loss: 1.4759 - accuracy: 0.5795 - val_loss: 3.0104 - val_accuracy: 0.3435\n",
            "Epoch 20/100\n",
            "800/800 [==============================] - 4s 4ms/step - loss: 1.4135 - accuracy: 0.5989 - val_loss: 3.0344 - val_accuracy: 0.3409\n",
            "Epoch 21/100\n",
            "800/800 [==============================] - 4s 5ms/step - loss: 1.3585 - accuracy: 0.6112 - val_loss: 3.1140 - val_accuracy: 0.3337\n",
            "Epoch 22/100\n",
            "800/800 [==============================] - 3s 4ms/step - loss: 1.3067 - accuracy: 0.6245 - val_loss: 3.2892 - val_accuracy: 0.3276\n",
            "Epoch 23/100\n",
            "800/800 [==============================] - 4s 5ms/step - loss: 1.2478 - accuracy: 0.6363 - val_loss: 3.3775 - val_accuracy: 0.3304\n",
            "Epoch 24/100\n",
            "800/800 [==============================] - 4s 5ms/step - loss: 1.1904 - accuracy: 0.6516 - val_loss: 3.4387 - val_accuracy: 0.3289\n",
            "Epoch 25/100\n",
            "800/800 [==============================] - 4s 5ms/step - loss: 1.1559 - accuracy: 0.6603 - val_loss: 3.4943 - val_accuracy: 0.3354\n",
            "Epoch 26/100\n",
            "800/800 [==============================] - 4s 5ms/step - loss: 1.0991 - accuracy: 0.6744 - val_loss: 3.6490 - val_accuracy: 0.3319\n",
            "Epoch 27/100\n",
            "800/800 [==============================] - 4s 5ms/step - loss: 1.0574 - accuracy: 0.6859 - val_loss: 3.7249 - val_accuracy: 0.3261\n",
            "Epoch 28/100\n",
            "800/800 [==============================] - 4s 5ms/step - loss: 1.0051 - accuracy: 0.7021 - val_loss: 3.9174 - val_accuracy: 0.3185\n",
            "Epoch 29/100\n",
            "800/800 [==============================] - 4s 5ms/step - loss: 0.9675 - accuracy: 0.7103 - val_loss: 4.0739 - val_accuracy: 0.3273\n",
            "Epoch 30/100\n",
            "800/800 [==============================] - 4s 5ms/step - loss: 0.9293 - accuracy: 0.7172 - val_loss: 4.1607 - val_accuracy: 0.3237\n",
            "Epoch 31/100\n",
            "800/800 [==============================] - 3s 4ms/step - loss: 0.9150 - accuracy: 0.7235 - val_loss: 4.1455 - val_accuracy: 0.3198\n",
            "Epoch 32/100\n",
            "800/800 [==============================] - 3s 4ms/step - loss: 0.8617 - accuracy: 0.7378 - val_loss: 4.4087 - val_accuracy: 0.3214\n",
            "Epoch 33/100\n",
            "800/800 [==============================] - 3s 4ms/step - loss: 0.8385 - accuracy: 0.7417 - val_loss: 4.5145 - val_accuracy: 0.3162\n",
            "Epoch 34/100\n",
            "800/800 [==============================] - 4s 5ms/step - loss: 0.8093 - accuracy: 0.7514 - val_loss: 4.5497 - val_accuracy: 0.3173\n",
            "Epoch 35/100\n",
            "800/800 [==============================] - 4s 4ms/step - loss: 0.7775 - accuracy: 0.7607 - val_loss: 4.7924 - val_accuracy: 0.3169\n",
            "Epoch 36/100\n",
            "800/800 [==============================] - 4s 5ms/step - loss: 0.7570 - accuracy: 0.7649 - val_loss: 4.9120 - val_accuracy: 0.3098\n",
            "Epoch 37/100\n",
            "800/800 [==============================] - 3s 4ms/step - loss: 0.7189 - accuracy: 0.7745 - val_loss: 4.9439 - val_accuracy: 0.3080\n",
            "Epoch 38/100\n",
            "800/800 [==============================] - 3s 4ms/step - loss: 0.6916 - accuracy: 0.7842 - val_loss: 5.2692 - val_accuracy: 0.3154\n",
            "Epoch 39/100\n",
            "800/800 [==============================] - 4s 5ms/step - loss: 0.6727 - accuracy: 0.7884 - val_loss: 5.2865 - val_accuracy: 0.3091\n",
            "Epoch 40/100\n",
            "800/800 [==============================] - 3s 4ms/step - loss: 0.6766 - accuracy: 0.7859 - val_loss: 5.4839 - val_accuracy: 0.3124\n",
            "Epoch 41/100\n",
            "800/800 [==============================] - 4s 4ms/step - loss: 0.6418 - accuracy: 0.7940 - val_loss: 5.5623 - val_accuracy: 0.3060\n",
            "Epoch 42/100\n",
            "800/800 [==============================] - 4s 5ms/step - loss: 0.6128 - accuracy: 0.8064 - val_loss: 5.6942 - val_accuracy: 0.3073\n",
            "Epoch 43/100\n",
            "800/800 [==============================] - 3s 4ms/step - loss: 0.6174 - accuracy: 0.8024 - val_loss: 5.7274 - val_accuracy: 0.3069\n",
            "Epoch 44/100\n",
            "800/800 [==============================] - 4s 5ms/step - loss: 0.5854 - accuracy: 0.8138 - val_loss: 5.9102 - val_accuracy: 0.3032\n",
            "Epoch 45/100\n",
            "800/800 [==============================] - 3s 4ms/step - loss: 0.5740 - accuracy: 0.8146 - val_loss: 5.9093 - val_accuracy: 0.2992\n",
            "Epoch 46/100\n",
            "800/800 [==============================] - 4s 5ms/step - loss: 0.5513 - accuracy: 0.8231 - val_loss: 6.1840 - val_accuracy: 0.3006\n",
            "Epoch 47/100\n",
            "800/800 [==============================] - 3s 4ms/step - loss: 0.5322 - accuracy: 0.8279 - val_loss: 6.3153 - val_accuracy: 0.2978\n",
            "Epoch 48/100\n",
            "800/800 [==============================] - 4s 5ms/step - loss: 0.5338 - accuracy: 0.8288 - val_loss: 6.3800 - val_accuracy: 0.2951\n",
            "Epoch 49/100\n",
            "800/800 [==============================] - 3s 4ms/step - loss: 0.5336 - accuracy: 0.8266 - val_loss: 6.5001 - val_accuracy: 0.3058\n",
            "Epoch 50/100\n",
            "800/800 [==============================] - 3s 4ms/step - loss: 0.5009 - accuracy: 0.8385 - val_loss: 6.6131 - val_accuracy: 0.3052\n",
            "Epoch 51/100\n",
            "800/800 [==============================] - 4s 5ms/step - loss: 0.4814 - accuracy: 0.8440 - val_loss: 6.7751 - val_accuracy: 0.3032\n",
            "Epoch 52/100\n",
            "800/800 [==============================] - 3s 4ms/step - loss: 0.4974 - accuracy: 0.8415 - val_loss: 6.9076 - val_accuracy: 0.2979\n",
            "Epoch 53/100\n",
            "800/800 [==============================] - 4s 4ms/step - loss: 0.4720 - accuracy: 0.8451 - val_loss: 7.0757 - val_accuracy: 0.3027\n",
            "Epoch 54/100\n",
            "800/800 [==============================] - 3s 4ms/step - loss: 0.4907 - accuracy: 0.8413 - val_loss: 7.2272 - val_accuracy: 0.2968\n",
            "Epoch 55/100\n",
            "800/800 [==============================] - 3s 4ms/step - loss: 0.4588 - accuracy: 0.8524 - val_loss: 7.1462 - val_accuracy: 0.3078\n",
            "Epoch 56/100\n",
            "800/800 [==============================] - 3s 4ms/step - loss: 0.4495 - accuracy: 0.8535 - val_loss: 7.3875 - val_accuracy: 0.2945\n",
            "Epoch 57/100\n",
            "800/800 [==============================] - 3s 4ms/step - loss: 0.4461 - accuracy: 0.8550 - val_loss: 7.6810 - val_accuracy: 0.2914\n",
            "Epoch 58/100\n",
            "800/800 [==============================] - 4s 5ms/step - loss: 0.4360 - accuracy: 0.8581 - val_loss: 7.5927 - val_accuracy: 0.3016\n",
            "Epoch 59/100\n",
            "800/800 [==============================] - 3s 4ms/step - loss: 0.4376 - accuracy: 0.8592 - val_loss: 7.6755 - val_accuracy: 0.3000\n",
            "Epoch 60/100\n",
            "800/800 [==============================] - 4s 5ms/step - loss: 0.4202 - accuracy: 0.8629 - val_loss: 7.9000 - val_accuracy: 0.3005\n",
            "Epoch 61/100\n",
            "800/800 [==============================] - 3s 4ms/step - loss: 0.3997 - accuracy: 0.8690 - val_loss: 8.1192 - val_accuracy: 0.2997\n",
            "Epoch 62/100\n",
            "800/800 [==============================] - 3s 4ms/step - loss: 0.4440 - accuracy: 0.8582 - val_loss: 7.9771 - val_accuracy: 0.2964\n",
            "Epoch 63/100\n",
            "800/800 [==============================] - 3s 4ms/step - loss: 0.4095 - accuracy: 0.8664 - val_loss: 8.0559 - val_accuracy: 0.2955\n",
            "Epoch 64/100\n",
            "800/800 [==============================] - 4s 5ms/step - loss: 0.4172 - accuracy: 0.8652 - val_loss: 8.1178 - val_accuracy: 0.2947\n",
            "Epoch 65/100\n",
            "800/800 [==============================] - 3s 4ms/step - loss: 0.3993 - accuracy: 0.8704 - val_loss: 8.4829 - val_accuracy: 0.2969\n",
            "Epoch 66/100\n",
            "800/800 [==============================] - 3s 4ms/step - loss: 0.3725 - accuracy: 0.8773 - val_loss: 8.4731 - val_accuracy: 0.2923\n",
            "Epoch 67/100\n",
            "800/800 [==============================] - 4s 5ms/step - loss: 0.4381 - accuracy: 0.8607 - val_loss: 8.2683 - val_accuracy: 0.2985\n",
            "Epoch 68/100\n",
            "800/800 [==============================] - 3s 4ms/step - loss: 0.3778 - accuracy: 0.8785 - val_loss: 8.9067 - val_accuracy: 0.2850\n",
            "Epoch 69/100\n",
            "800/800 [==============================] - 4s 4ms/step - loss: 0.3606 - accuracy: 0.8831 - val_loss: 8.7650 - val_accuracy: 0.2950\n",
            "Epoch 70/100\n",
            "800/800 [==============================] - 3s 4ms/step - loss: 0.4228 - accuracy: 0.8661 - val_loss: 8.6894 - val_accuracy: 0.2919\n",
            "Epoch 71/100\n",
            "800/800 [==============================] - 3s 4ms/step - loss: 0.3918 - accuracy: 0.8737 - val_loss: 8.9370 - val_accuracy: 0.2898\n",
            "Epoch 72/100\n",
            "800/800 [==============================] - 4s 5ms/step - loss: 0.3599 - accuracy: 0.8828 - val_loss: 8.9527 - val_accuracy: 0.2963\n",
            "Epoch 73/100\n",
            "800/800 [==============================] - 3s 4ms/step - loss: 0.3737 - accuracy: 0.8803 - val_loss: 9.1826 - val_accuracy: 0.2915\n",
            "Epoch 74/100\n",
            "800/800 [==============================] - 4s 5ms/step - loss: 0.3827 - accuracy: 0.8774 - val_loss: 8.8356 - val_accuracy: 0.2921\n",
            "Epoch 75/100\n",
            "800/800 [==============================] - 4s 4ms/step - loss: 0.3666 - accuracy: 0.8824 - val_loss: 9.3629 - val_accuracy: 0.2884\n",
            "Epoch 76/100\n",
            "800/800 [==============================] - 4s 5ms/step - loss: 0.3653 - accuracy: 0.8845 - val_loss: 9.3753 - val_accuracy: 0.2932\n",
            "Epoch 77/100\n",
            "800/800 [==============================] - 4s 5ms/step - loss: 0.3777 - accuracy: 0.8814 - val_loss: 9.4983 - val_accuracy: 0.2926\n",
            "Epoch 78/100\n",
            "800/800 [==============================] - 4s 5ms/step - loss: 0.3698 - accuracy: 0.8833 - val_loss: 9.1976 - val_accuracy: 0.2915\n",
            "Epoch 79/100\n",
            "800/800 [==============================] - 4s 4ms/step - loss: 0.3521 - accuracy: 0.8891 - val_loss: 9.6735 - val_accuracy: 0.2958\n",
            "Epoch 80/100\n",
            "800/800 [==============================] - 4s 4ms/step - loss: 0.3516 - accuracy: 0.8896 - val_loss: 9.4873 - val_accuracy: 0.2935\n",
            "Epoch 81/100\n",
            "800/800 [==============================] - 4s 4ms/step - loss: 0.3632 - accuracy: 0.8850 - val_loss: 9.6861 - val_accuracy: 0.2956\n",
            "Epoch 82/100\n",
            "800/800 [==============================] - 4s 5ms/step - loss: 0.3721 - accuracy: 0.8844 - val_loss: 9.5405 - val_accuracy: 0.2964\n",
            "Epoch 83/100\n",
            "800/800 [==============================] - 4s 5ms/step - loss: 0.3420 - accuracy: 0.8923 - val_loss: 10.0264 - val_accuracy: 0.2910\n",
            "Epoch 84/100\n",
            "800/800 [==============================] - 4s 4ms/step - loss: 0.3586 - accuracy: 0.8879 - val_loss: 9.6880 - val_accuracy: 0.2961\n",
            "Epoch 85/100\n",
            "800/800 [==============================] - 4s 5ms/step - loss: 0.3186 - accuracy: 0.8979 - val_loss: 10.3873 - val_accuracy: 0.2906\n",
            "Epoch 86/100\n",
            "800/800 [==============================] - 4s 5ms/step - loss: 0.3745 - accuracy: 0.8837 - val_loss: 9.9296 - val_accuracy: 0.2912\n",
            "Epoch 87/100\n",
            "800/800 [==============================] - 4s 5ms/step - loss: 0.3538 - accuracy: 0.8890 - val_loss: 10.2513 - val_accuracy: 0.2919\n",
            "Epoch 88/100\n",
            "800/800 [==============================] - 4s 4ms/step - loss: 0.3208 - accuracy: 0.8993 - val_loss: 10.5322 - val_accuracy: 0.2924\n",
            "Epoch 89/100\n",
            "800/800 [==============================] - 4s 5ms/step - loss: 0.3629 - accuracy: 0.8883 - val_loss: 10.2917 - val_accuracy: 0.2872\n",
            "Epoch 90/100\n",
            "800/800 [==============================] - 4s 5ms/step - loss: 0.3512 - accuracy: 0.8903 - val_loss: 10.1295 - val_accuracy: 0.2928\n",
            "Epoch 91/100\n",
            "800/800 [==============================] - 3s 4ms/step - loss: 0.3426 - accuracy: 0.8947 - val_loss: 10.1526 - val_accuracy: 0.2853\n",
            "Epoch 92/100\n",
            "800/800 [==============================] - 4s 5ms/step - loss: 0.3088 - accuracy: 0.9011 - val_loss: 10.7044 - val_accuracy: 0.2905\n",
            "Epoch 93/100\n",
            "800/800 [==============================] - 4s 5ms/step - loss: 0.3611 - accuracy: 0.8899 - val_loss: 10.4925 - val_accuracy: 0.2892\n",
            "Epoch 94/100\n",
            "800/800 [==============================] - 4s 5ms/step - loss: 0.3313 - accuracy: 0.8978 - val_loss: 10.6904 - val_accuracy: 0.2855\n",
            "Epoch 95/100\n",
            "800/800 [==============================] - 4s 5ms/step - loss: 0.3414 - accuracy: 0.8942 - val_loss: 10.7840 - val_accuracy: 0.2861\n",
            "Epoch 96/100\n",
            "800/800 [==============================] - 4s 4ms/step - loss: 0.3377 - accuracy: 0.8977 - val_loss: 10.8509 - val_accuracy: 0.2946\n",
            "Epoch 97/100\n",
            "800/800 [==============================] - 4s 5ms/step - loss: 0.3258 - accuracy: 0.8982 - val_loss: 10.6877 - val_accuracy: 0.2942\n",
            "Epoch 98/100\n",
            "800/800 [==============================] - 4s 5ms/step - loss: 0.3288 - accuracy: 0.8984 - val_loss: 10.8601 - val_accuracy: 0.2954\n",
            "Epoch 99/100\n",
            "800/800 [==============================] - 4s 5ms/step - loss: 0.3330 - accuracy: 0.8989 - val_loss: 10.8606 - val_accuracy: 0.2861\n",
            "Epoch 100/100\n",
            "800/800 [==============================] - 4s 5ms/step - loss: 0.3540 - accuracy: 0.8924 - val_loss: 10.7427 - val_accuracy: 0.2917\n"
          ]
        }
      ]
    },
    {
      "cell_type": "code",
      "source": [
        "# Generamos las métricas de generalización\n",
        "score = model.evaluate(train_images, train_labels, verbose=0)\n",
        "print(f'Test loss: {score[0]} / Test accuracy: {score[1]}')\n",
        "\n",
        "# Visualizamos history\n",
        "# Pintamos history: Pérdida\n",
        "plt.plot(history.history['val_loss'])\n",
        "plt.title('Validation loss history')\n",
        "plt.ylabel('Loss value')\n",
        "plt.xlabel('No. epoch')\n",
        "plt.show()\n",
        "\n",
        "# Pintamos history: Precisión\n",
        "plt.plot(history.history['val_accuracy'])\n",
        "plt.title('Validation accuracy history')\n",
        "plt.ylabel('Accuracy value (%)')\n",
        "plt.xlabel('No. epoch')\n",
        "plt.show()"
      ],
      "metadata": {
        "id": "Ib6jlUAllODh",
        "colab": {
          "base_uri": "https://localhost:8080/",
          "height": 590
        },
        "outputId": "8b990b30-aa6e-493f-b012-625d5b9611ec"
      },
      "execution_count": 29,
      "outputs": [
        {
          "output_type": "stream",
          "name": "stdout",
          "text": [
            "Test loss: 2.348374128341675 / Test accuracy: 0.7946400046348572\n"
          ]
        },
        {
          "output_type": "display_data",
          "data": {
            "text/plain": [
              "<Figure size 432x288 with 1 Axes>"
            ],
            "image/png": "[encoded data removed]"
          },
          "metadata": {
            "needs_background": "light"
          }
        },
        {
          "output_type": "display_data",
          "data": {
            "text/plain": [
              "<Figure size 432x288 with 1 Axes>"
            ],
            "image/png": "[encoded data removed]"
          },
          "metadata": {
            "needs_background": "light"
          }
        }
      ]
    }
  ]
}